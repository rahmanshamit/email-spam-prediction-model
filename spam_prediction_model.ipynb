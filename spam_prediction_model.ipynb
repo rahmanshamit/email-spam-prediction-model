{
 "cells": [
  {
   "cell_type": "code",
   "execution_count": 188,
   "metadata": {},
   "outputs": [],
   "source": [
    "import numpy as np\n",
    "import pandas as pd\n",
    "from sklearn.model_selection import train_test_split, cross_validate, cross_val_score\n",
    "from sklearn.linear_model import LinearRegression, LogisticRegression, Ridge\n",
    "from sklearn.ensemble import RandomForestClassifier\n",
    "from sklearn.dummy import DummyClassifier\n",
    "from sklearn.metrics import confusion_matrix, precision_score, recall_score, f1_score, plot_confusion_matrix\n",
    "from sklearn.feature_extraction.text import CountVectorizer\n",
    "# Add your imports below\n",
    "from sklearn.metrics import make_scorer\n",
    "from sklearn.pipeline import Pipeline, make_pipeline\n",
    "from sklearn.neighbors import NearestNeighbors\n",
    "from sklearn.neighbors import KNeighborsClassifier\n",
    "from sklearn.metrics.pairwise import cosine_similarity, cosine_distances, euclidean_distances\n"
   ]
  },
  {
   "cell_type": "code",
   "execution_count": 189,
   "metadata": {},
   "outputs": [],
   "source": [
    "def cross_validate_std(*args, **kwargs):\n",
    "    \"\"\"Like cross_validate, except also gives the standard deviation of the score\"\"\"\n",
    "    res = pd.DataFrame(cross_validate(*args, **kwargs))\n",
    "    res_mean = res.mean()\n",
    "\n",
    "    res_mean[\"std_test_score\"] = res[\"test_score\"].std()\n",
    "    if \"train_score\" in res:\n",
    "        res_mean[\"std_train_score\"] = res[\"train_score\"].std()\n",
    "    return res_mean"
   ]
  },
  {
   "cell_type": "markdown",
   "metadata": {},
   "source": [
    "## The dataset\n",
    "\n",
    "[SMS Spam Collection Dataset](https://www.kaggle.com/uciml/sms-spam-collection-dataset). The task is to predict whether a text message (SMS) is spam or not spam (\"ham\")."
   ]
  },
  {
   "cell_type": "code",
   "execution_count": 190,
   "metadata": {},
   "outputs": [],
   "source": [
    "sms_df = pd.read_csv(\"spam.csv\", encoding=\"latin-1\")\n",
    "sms_df = sms_df.drop(columns=[\"Unnamed: 2\", \"Unnamed: 3\", \"Unnamed: 4\"])\n",
    "sms_df = sms_df.rename(columns={\"v1\": \"target\", \"v2\": \"sms\"})"
   ]
  },
  {
   "cell_type": "code",
   "execution_count": 191,
   "metadata": {},
   "outputs": [
    {
     "data": {
      "text/html": [
       "<div>\n",
       "<style scoped>\n",
       "    .dataframe tbody tr th:only-of-type {\n",
       "        vertical-align: middle;\n",
       "    }\n",
       "\n",
       "    .dataframe tbody tr th {\n",
       "        vertical-align: top;\n",
       "    }\n",
       "\n",
       "    .dataframe thead th {\n",
       "        text-align: right;\n",
       "    }\n",
       "</style>\n",
       "<table border=\"1\" class=\"dataframe\">\n",
       "  <thead>\n",
       "    <tr style=\"text-align: right;\">\n",
       "      <th></th>\n",
       "      <th>target</th>\n",
       "      <th>sms</th>\n",
       "    </tr>\n",
       "  </thead>\n",
       "  <tbody>\n",
       "    <tr>\n",
       "      <th>647</th>\n",
       "      <td>spam</td>\n",
       "      <td>PRIVATE! Your 2003 Account Statement for shows...</td>\n",
       "    </tr>\n",
       "    <tr>\n",
       "      <th>3843</th>\n",
       "      <td>ham</td>\n",
       "      <td>Yeah that's what I thought, lemme know if anyt...</td>\n",
       "    </tr>\n",
       "    <tr>\n",
       "      <th>3044</th>\n",
       "      <td>ham</td>\n",
       "      <td>Hello, yeah i've just got out of the bath and ...</td>\n",
       "    </tr>\n",
       "    <tr>\n",
       "      <th>2536</th>\n",
       "      <td>ham</td>\n",
       "      <td>You do what all you like</td>\n",
       "    </tr>\n",
       "    <tr>\n",
       "      <th>4644</th>\n",
       "      <td>ham</td>\n",
       "      <td>Are you planning to come chennai?</td>\n",
       "    </tr>\n",
       "  </tbody>\n",
       "</table>\n",
       "</div>"
      ],
      "text/plain": [
       "     target                                                sms\n",
       "647    spam  PRIVATE! Your 2003 Account Statement for shows...\n",
       "3843    ham  Yeah that's what I thought, lemme know if anyt...\n",
       "3044    ham  Hello, yeah i've just got out of the bath and ...\n",
       "2536    ham                           You do what all you like\n",
       "4644    ham                  Are you planning to come chennai?"
      ]
     },
     "execution_count": 191,
     "metadata": {},
     "output_type": "execute_result"
    }
   ],
   "source": [
    "df_train, df_test = train_test_split(sms_df, random_state=123)\n",
    "df_train.head()"
   ]
  },
  {
   "cell_type": "code",
   "execution_count": 192,
   "metadata": {},
   "outputs": [
    {
     "data": {
      "text/plain": [
       "(4179, 2)"
      ]
     },
     "execution_count": 192,
     "metadata": {},
     "output_type": "execute_result"
    }
   ],
   "source": [
    "df_train.shape"
   ]
  },
  {
   "cell_type": "markdown",
   "metadata": {},
   "source": [
    "Build a classification model to predict whether a message is spam or ham."
   ]
  },
  {
   "cell_type": "code",
   "execution_count": 193,
   "metadata": {},
   "outputs": [],
   "source": [
    "X_train = df_train[\"sms\"]\n",
    "y_train = df_train[\"target\"]\n",
    "\n",
    "X_test = df_test[\"sms\"]\n",
    "y_test = df_test[\"target\"]"
   ]
  },
  {
   "cell_type": "markdown",
   "metadata": {},
   "source": [
    "- Use `CountVectorizer` to create features from the text data.\n",
    "- Choose an appropriate baseline model (`DummyClassifier` or `DummyRegressor` to predict spam vs. ham and report the relevant scores\n",
    "- Choose an appropriate linear model (`LogisticRegression` or `Ridge`) to predict spam vs. ham\n",
    "- Choose an appropriate random forest model (`RandomForestClassifier` or `RandomForestRegressor`) to predict spam vs. ham\n",
    "- Report the relevant scores for your two models above. You can keep default hyperparameters for simplicity.\n",
    "- Report the most important features according to your linear model."
   ]
  },
  {
   "cell_type": "markdown",
   "metadata": {},
   "source": []
  },
  {
   "cell_type": "code",
   "execution_count": 194,
   "metadata": {},
   "outputs": [
    {
     "data": {
      "text/plain": [
       "(4179, 87)"
      ]
     },
     "execution_count": 194,
     "metadata": {},
     "output_type": "execute_result"
    }
   ],
   "source": [
    "countvec = CountVectorizer(min_df=50, stop_words='english')\n",
    "countvec.fit(X_train)\n",
    "X_train_countvec = countvec.transform(X_train)\n",
    "X_test_countvec = countvec.transform(X_test)\n",
    "X_train_countvec.shape"
   ]
  },
  {
   "cell_type": "code",
   "execution_count": 195,
   "metadata": {},
   "outputs": [
    {
     "data": {
      "text/plain": [
       "0.87724335965542"
      ]
     },
     "execution_count": 195,
     "metadata": {},
     "output_type": "execute_result"
    }
   ],
   "source": [
    "dc = DummyClassifier(strategy='prior')\n",
    "dc.fit(X_train_countvec, y_train)\n",
    "dc.score(X_test_countvec, y_test)"
   ]
  },
  {
   "cell_type": "code",
   "execution_count": 196,
   "metadata": {},
   "outputs": [
    {
     "data": {
      "text/plain": [
       "Pipeline(steps=[('countvectorizer',\n",
       "                 CountVectorizer(min_df=50, stop_words='english')),\n",
       "                ('logisticregression', LogisticRegression())])"
      ]
     },
     "execution_count": 196,
     "metadata": {},
     "output_type": "execute_result"
    }
   ],
   "source": [
    "r = LogisticRegression()\n",
    "pipe_r = make_pipeline(countvec, r)\n",
    "pipe_r.fit(X_train, y_train)"
   ]
  },
  {
   "cell_type": "code",
   "execution_count": 197,
   "metadata": {},
   "outputs": [
    {
     "data": {
      "text/plain": [
       "fit_time          0.055543\n",
       "score_time        0.009401\n",
       "test_score        0.946876\n",
       "std_test_score    0.004138\n",
       "dtype: float64"
      ]
     },
     "execution_count": 197,
     "metadata": {},
     "output_type": "execute_result"
    }
   ],
   "source": [
    "cross_validate_std(pipe_r, X_train, y_train)"
   ]
  },
  {
   "cell_type": "code",
   "execution_count": 198,
   "metadata": {},
   "outputs": [
    {
     "data": {
      "text/plain": [
       "0.9605168700646087"
      ]
     },
     "execution_count": 198,
     "metadata": {},
     "output_type": "execute_result"
    }
   ],
   "source": [
    "pipe_r.score(X_test, y_test)"
   ]
  },
  {
   "cell_type": "code",
   "execution_count": 199,
   "metadata": {},
   "outputs": [
    {
     "data": {
      "text/plain": [
       "Pipeline(steps=[('countvectorizer',\n",
       "                 CountVectorizer(min_df=50, stop_words='english')),\n",
       "                ('randomforestclassifier', RandomForestClassifier())])"
      ]
     },
     "execution_count": 199,
     "metadata": {},
     "output_type": "execute_result"
    }
   ],
   "source": [
    "rf = RandomForestClassifier()\n",
    "pipe_rf = make_pipeline(countvec, rf)\n",
    "pipe_rf.fit(X_train, y_train)"
   ]
  },
  {
   "cell_type": "code",
   "execution_count": 200,
   "metadata": {},
   "outputs": [
    {
     "data": {
      "text/plain": [
       "fit_time          0.278986\n",
       "score_time        0.028260\n",
       "test_score        0.945918\n",
       "std_test_score    0.005343\n",
       "dtype: float64"
      ]
     },
     "execution_count": 200,
     "metadata": {},
     "output_type": "execute_result"
    }
   ],
   "source": [
    "cross_validate_std(pipe_rf, X_train, y_train)"
   ]
  },
  {
   "cell_type": "code",
   "execution_count": 201,
   "metadata": {},
   "outputs": [
    {
     "data": {
      "text/plain": [
       "0.9583632447954056"
      ]
     },
     "execution_count": 201,
     "metadata": {},
     "output_type": "execute_result"
    }
   ],
   "source": [
    "pipe_rf.score(X_test, y_test)"
   ]
  },
  {
   "cell_type": "code",
   "execution_count": 202,
   "metadata": {},
   "outputs": [
    {
     "data": {
      "image/png": "[encoded data removed]",
      "text/plain": [
       "<Figure size 432x288 with 2 Axes>"
      ]
     },
     "metadata": {
      "needs_background": "light"
     },
     "output_type": "display_data"
    }
   ],
   "source": [
    "plot_confusion_matrix(pipe_rf, X_train, y_train, display_labels=['ham', 'spam']);"
   ]
  },
  {
   "cell_type": "code",
   "execution_count": 203,
   "metadata": {},
   "outputs": [
    {
     "data": {
      "text/plain": [
       "fit_time          0.288315\n",
       "score_time        0.032084\n",
       "test_score        0.888648\n",
       "std_test_score    0.050948\n",
       "dtype: float64"
      ]
     },
     "execution_count": 203,
     "metadata": {},
     "output_type": "execute_result"
    }
   ],
   "source": [
    "cross_validate_std(pipe_rf, X_train, y_train, scoring=make_scorer(precision_score, pos_label='spam'))"
   ]
  },
  {
   "cell_type": "code",
   "execution_count": 204,
   "metadata": {},
   "outputs": [
    {
     "data": {
      "text/plain": [
       "fit_time          0.282224\n",
       "score_time        0.032808\n",
       "test_score        0.708336\n",
       "std_test_score    0.013068\n",
       "dtype: float64"
      ]
     },
     "execution_count": 204,
     "metadata": {},
     "output_type": "execute_result"
    }
   ],
   "source": [
    "cross_validate_std(pipe_rf, X_train, y_train, scoring=make_scorer(recall_score, pos_label='spam'))"
   ]
  },
  {
   "cell_type": "code",
   "execution_count": 205,
   "metadata": {},
   "outputs": [
    {
     "data": {
      "text/plain": [
       "fit_time          0.275068\n",
       "score_time        0.031142\n",
       "test_score        0.790908\n",
       "std_test_score    0.017197\n",
       "dtype: float64"
      ]
     },
     "execution_count": 205,
     "metadata": {},
     "output_type": "execute_result"
    }
   ],
   "source": [
    "cross_validate_std(pipe_rf, X_train, y_train, scoring=make_scorer(f1_score, pos_label='spam'))"
   ]
  },
  {
   "cell_type": "code",
   "execution_count": 206,
   "metadata": {},
   "outputs": [
    {
     "data": {
      "text/plain": [
       "0.9918533604887984"
      ]
     },
     "execution_count": 206,
     "metadata": {},
     "output_type": "execute_result"
    }
   ],
   "source": [
    "precision_score(y_train, pipe_rf.predict(X_train), pos_label='spam')"
   ]
  },
  {
   "cell_type": "code",
   "execution_count": 207,
   "metadata": {},
   "outputs": [
    {
     "data": {
      "text/plain": [
       "0.8454861111111112"
      ]
     },
     "execution_count": 207,
     "metadata": {},
     "output_type": "execute_result"
    }
   ],
   "source": [
    "recall_score(y_train, pipe_rf.predict(X_train), pos_label='spam')"
   ]
  },
  {
   "cell_type": "code",
   "execution_count": 208,
   "metadata": {},
   "outputs": [
    {
     "data": {
      "text/plain": [
       "0.9128397375820057"
      ]
     },
     "execution_count": 208,
     "metadata": {},
     "output_type": "execute_result"
    }
   ],
   "source": [
    "f1_score(y_train, pipe_rf.predict(X_train), pos_label='spam')"
   ]
  },
  {
   "cell_type": "code",
   "execution_count": 209,
   "metadata": {},
   "outputs": [
    {
     "data": {
      "text/html": [
       "<div>\n",
       "<style scoped>\n",
       "    .dataframe tbody tr th:only-of-type {\n",
       "        vertical-align: middle;\n",
       "    }\n",
       "\n",
       "    .dataframe tbody tr th {\n",
       "        vertical-align: top;\n",
       "    }\n",
       "\n",
       "    .dataframe thead th {\n",
       "        text-align: right;\n",
       "    }\n",
       "</style>\n",
       "<table border=\"1\" class=\"dataframe\">\n",
       "  <thead>\n",
       "    <tr style=\"text-align: right;\">\n",
       "      <th></th>\n",
       "      <th>Importance</th>\n",
       "    </tr>\n",
       "  </thead>\n",
       "  <tbody>\n",
       "    <tr>\n",
       "      <th>txt</th>\n",
       "      <td>0.086977</td>\n",
       "    </tr>\n",
       "    <tr>\n",
       "      <th>free</th>\n",
       "      <td>0.086922</td>\n",
       "    </tr>\n",
       "    <tr>\n",
       "      <th>claim</th>\n",
       "      <td>0.076506</td>\n",
       "    </tr>\n",
       "    <tr>\n",
       "      <th>mobile</th>\n",
       "      <td>0.073112</td>\n",
       "    </tr>\n",
       "    <tr>\n",
       "      <th>www</th>\n",
       "      <td>0.061054</td>\n",
       "    </tr>\n",
       "  </tbody>\n",
       "</table>\n",
       "</div>"
      ],
      "text/plain": [
       "        Importance\n",
       "txt       0.086977\n",
       "free      0.086922\n",
       "claim     0.076506\n",
       "mobile    0.073112\n",
       "www       0.061054"
      ]
     },
     "execution_count": 209,
     "metadata": {},
     "output_type": "execute_result"
    }
   ],
   "source": [
    "importances = pd.DataFrame(data=pipe_rf[1].feature_importances_, index=pipe_rf[0].get_feature_names(), columns=[\"Importance\"])\n",
    "importances.sort_values(by=\"Importance\", ascending=False).head()"
   ]
  },
  {
   "cell_type": "markdown",
   "metadata": {},
   "source": [
    "'txt' is the most important feature"
   ]
  },
  {
   "cell_type": "markdown",
   "metadata": {},
   "source": [
    "## Using pre-trained word embeddings."
   ]
  },
  {
   "cell_type": "markdown",
   "metadata": {},
   "source": [
    "We will use a package called [spaCy](https://spacy.io/). "
   ]
  },
  {
   "cell_type": "code",
   "execution_count": 211,
   "metadata": {},
   "outputs": [
    {
     "data": {
      "text/plain": [
       "'PRIVATE! Your 2003 Account Statement for shows 800 un-redeemed S. I. M. points. Call 08715203694 Identifier Code: 40533 Expires 31/10/04'"
      ]
     },
     "execution_count": 211,
     "metadata": {},
     "output_type": "execute_result"
    }
   ],
   "source": [
    "X_train.iloc[0]"
   ]
  },
  {
   "cell_type": "code",
   "execution_count": 212,
   "metadata": {},
   "outputs": [
    {
     "data": {
      "text/plain": [
       "array([-6.31907508e-02,  1.87776491e-01, -3.50111164e-02, -1.40975965e-02,\n",
       "        6.48319796e-02, -6.47449717e-02,  1.70375593e-02, -6.10386357e-02,\n",
       "       -1.64511222e-02,  1.32269633e+00, -2.01264426e-01,  1.75327167e-01,\n",
       "       -1.92099977e-02, -7.02716932e-02, -4.06776555e-02,  4.39935699e-02,\n",
       "       -9.40892398e-02,  1.16417742e+00,  5.21034896e-02, -4.15729620e-02,\n",
       "       -6.67720437e-02,  2.09751315e-02, -2.88010016e-02, -1.74403172e-02,\n",
       "        7.59456381e-02,  1.59054156e-02, -1.19963408e-01, -4.00383957e-02,\n",
       "        6.05901927e-02,  6.71593547e-02,  9.76373553e-02,  3.17107029e-02,\n",
       "        3.25630940e-02,  1.04522884e-01, -4.10015620e-02, -1.43015515e-02,\n",
       "       -5.64244464e-02,  8.83771945e-03, -5.06912246e-02, -5.84236719e-02,\n",
       "       -7.24398345e-02, -6.05546385e-02,  1.38748854e-01, -1.05185993e-01,\n",
       "       -1.15349621e-01,  8.07616413e-02, -3.67925540e-02,  1.33814156e-01,\n",
       "        4.17499691e-02,  1.61221206e-01, -7.78133571e-02,  2.88000386e-02,\n",
       "       -8.40148050e-03, -6.04870506e-02, -3.08934450e-02, -8.52895677e-02,\n",
       "       -6.39548749e-02,  5.22800349e-03, -5.53854462e-03, -8.03087745e-03,\n",
       "       -1.88329201e-02,  8.88980925e-02, -7.52621666e-02,  6.61760196e-02,\n",
       "        9.47163776e-02,  6.73259944e-02,  1.04649670e-01, -6.46274583e-03,\n",
       "        5.36372103e-02,  1.54217467e-01,  3.08738761e-02,  6.25116751e-02,\n",
       "        3.42663415e-02, -6.89509287e-02,  1.41891614e-01,  9.79844108e-02,\n",
       "        6.95712864e-02, -7.67851481e-03,  7.25936284e-03,  2.37248063e-01,\n",
       "       -1.63150784e-02,  9.07422230e-02, -7.68659562e-02,  7.80237094e-02,\n",
       "        2.84451153e-02, -4.61706370e-02,  2.53731340e-01, -3.38298380e-01,\n",
       "        1.84761882e-01, -3.72366421e-02, -2.91331881e-03,  7.84042478e-02,\n",
       "        6.67143166e-02, -9.97413471e-02,  5.50127588e-02, -4.94359583e-02,\n",
       "       -1.24442577e-01,  4.32233177e-02,  8.62295628e-02,  7.72144422e-02,\n",
       "       -6.07400313e-02,  4.92347144e-02, -4.63975184e-02, -3.30802724e-02,\n",
       "        1.39270853e-02, -8.47563967e-02,  1.25425041e-01,  9.18363184e-02,\n",
       "       -3.94890830e-02,  1.06346551e-02,  6.09008074e-02, -1.80116773e-01,\n",
       "        1.22594684e-01, -1.50459651e-02, -3.37783806e-02,  3.83136868e-02,\n",
       "        8.98202434e-02,  3.74999195e-02, -9.69680026e-03,  9.95773077e-03,\n",
       "        1.75638404e-02, -2.54314896e-02, -8.56809989e-02,  1.08872645e-01,\n",
       "       -1.35684311e-01,  7.97398097e-04,  1.56500377e-02, -8.88168886e-02,\n",
       "        6.03115074e-02, -1.42285809e-01,  1.95733942e-02,  5.01425639e-02,\n",
       "        1.51783610e-02, -1.14804238e-01, -4.64538559e-02,  9.76584703e-02,\n",
       "        3.60706337e-02, -4.66540866e-02, -5.73624186e-02,  8.85936916e-02,\n",
       "       -5.84793568e-01,  5.83318807e-02,  1.49212033e-01,  2.50981990e-02,\n",
       "        1.86520796e-02,  6.34719208e-02,  6.20214045e-02,  1.50626272e-01,\n",
       "       -8.13386738e-02, -3.68060134e-02,  4.65319045e-02,  3.72871198e-02,\n",
       "       -6.42946979e-04, -7.21467882e-02,  9.57818106e-02,  2.75342744e-02,\n",
       "       -5.18624205e-04,  5.84824430e-03, -1.02520809e-02, -2.07720883e-02,\n",
       "        1.33938760e-01, -9.60807800e-02,  5.48885092e-02, -9.11142752e-02,\n",
       "       -1.69003427e-01,  2.58410200e-02,  1.53924776e-02,  7.84069002e-02,\n",
       "        5.00522815e-02,  7.43276328e-02,  1.77948698e-02,  6.87530190e-02,\n",
       "        3.02847251e-02, -2.33742408e-02,  4.10722271e-02,  8.40279385e-02,\n",
       "        3.33111873e-03, -9.05794725e-02, -9.32442099e-02,  9.66621563e-02,\n",
       "        2.35858392e-02, -5.38347214e-02,  5.32682659e-03, -1.45756781e-01,\n",
       "       -1.08654968e-01,  2.74618287e-02, -7.30003044e-02,  1.46668414e-02,\n",
       "        2.07207054e-02, -2.98349615e-02, -9.58048403e-02,  5.70857637e-02,\n",
       "       -9.08484757e-02,  7.41986334e-02,  5.45235164e-02,  2.15741992e-02,\n",
       "       -1.37075856e-01, -1.54765919e-01, -2.30951589e-02,  1.90954208e-01,\n",
       "        7.80405402e-02, -3.37098427e-02, -1.24667056e-01,  1.66881010e-01,\n",
       "        4.03063074e-02,  3.49688977e-02, -6.41835630e-02,  1.62057340e-01,\n",
       "       -4.78211604e-02, -5.11812232e-03,  9.41587612e-02, -3.66693996e-02,\n",
       "       -7.99198225e-02, -2.29402333e-02,  1.28512487e-01,  8.86656567e-02,\n",
       "        1.14268409e-02,  4.05594148e-02, -2.45743275e-01,  1.31086126e-01,\n",
       "        4.34480421e-02,  1.08615510e-01, -7.89643228e-02,  6.92738742e-02,\n",
       "        6.81332219e-03, -7.14639574e-02,  7.93786794e-02,  6.37667254e-02,\n",
       "        3.41754258e-02, -6.88679144e-02, -2.53196377e-02, -7.20241964e-02,\n",
       "       -2.71151252e-02, -5.73015912e-03, -1.21422760e-01,  1.30080767e-02,\n",
       "       -1.32366702e-01,  3.39249009e-03, -1.61491737e-01,  1.08716361e-01,\n",
       "        4.12480384e-02, -3.63959000e-02,  6.74781576e-02,  1.53123200e-01,\n",
       "        1.40259579e-01, -1.95193708e-01, -5.92055777e-03,  6.01037927e-02,\n",
       "       -1.37161344e-01,  1.56843606e-02,  4.05684412e-02,  1.63902566e-01,\n",
       "       -1.11277159e-02, -4.15833183e-02,  1.61682032e-02,  2.99643606e-01,\n",
       "       -4.89742309e-02, -1.15692608e-01,  9.21460614e-03, -4.49603982e-02,\n",
       "        4.27223295e-02,  1.21151373e-01,  1.00167096e-01,  5.83961345e-02,\n",
       "       -6.42061159e-02, -1.97696835e-01, -2.01423150e-02,  4.26647179e-02,\n",
       "        4.05064762e-01, -2.10693106e-01, -2.06212047e-02,  2.43830793e-02,\n",
       "        2.26350017e-02, -8.61471612e-03, -3.57177928e-02, -2.33990122e-02,\n",
       "        1.02524403e-02, -4.58227918e-02,  7.18510821e-02,  7.69190863e-02,\n",
       "        1.21984862e-01,  1.06863193e-02,  9.95338410e-02, -8.44649523e-02,\n",
       "       -5.41926771e-02,  1.26395607e-02,  4.98240627e-03, -3.34332464e-03,\n",
       "        4.26749624e-02,  4.25093882e-02, -8.02726075e-02,  1.31248131e-01,\n",
       "       -7.85700902e-02,  2.75639677e-03,  5.61666302e-02, -7.87066743e-02,\n",
       "       -9.57626700e-02,  1.00734020e-02, -7.58836325e-03,  1.03175854e-02],\n",
       "      dtype=float32)"
      ]
     },
     "execution_count": 212,
     "metadata": {},
     "output_type": "execute_result"
    }
   ],
   "source": [
    "nlp(X_train.iloc[0]).vector"
   ]
  },
  {
   "cell_type": "markdown",
   "metadata": {},
   "source": [
    "This is analogous to calling `transform` with `CountVectorizer`."
   ]
  },
  {
   "cell_type": "markdown",
   "metadata": {},
   "source": [
    "Compare the _length of the representation_ for these embeddings vs. the `CountVectorizer` approach. Then, compare the _number of nonzero entries_ for the two repesentations of the first training example. Briefly discuss.\n",
    "\n",
    "Note: A common error here is that scikit-learn methods expect certain data shapes as their input. To address this use `X_train.iloc[[0]]` instead of `X_train.iloc[0]`."
   ]
  },
  {
   "cell_type": "code",
   "execution_count": 213,
   "metadata": {},
   "outputs": [
    {
     "data": {
      "text/plain": [
       "(300,)"
      ]
     },
     "execution_count": 213,
     "metadata": {},
     "output_type": "execute_result"
    }
   ],
   "source": [
    "nlp(X_train.iloc[0]).vector.shape"
   ]
  },
  {
   "cell_type": "code",
   "execution_count": 214,
   "metadata": {},
   "outputs": [
    {
     "data": {
      "text/plain": [
       "(1, 87)"
      ]
     },
     "execution_count": 214,
     "metadata": {},
     "output_type": "execute_result"
    }
   ],
   "source": [
    "X_train_countvec[0].shape"
   ]
  },
  {
   "cell_type": "code",
   "execution_count": 215,
   "metadata": {},
   "outputs": [
    {
     "data": {
      "text/plain": [
       "25"
      ]
     },
     "execution_count": 215,
     "metadata": {},
     "output_type": "execute_result"
    }
   ],
   "source": [
    "np.count_nonzero(nlp(X_train.iloc[0]))"
   ]
  },
  {
   "cell_type": "code",
   "execution_count": 216,
   "metadata": {},
   "outputs": [],
   "source": [
    "x = (X_train_countvec[0].toarray())"
   ]
  },
  {
   "cell_type": "code",
   "execution_count": 217,
   "metadata": {},
   "outputs": [
    {
     "data": {
      "text/plain": [
       "0"
      ]
     },
     "execution_count": 217,
     "metadata": {},
     "output_type": "execute_result"
    }
   ],
   "source": [
    "np.sum(x != 0)"
   ]
  },
  {
   "cell_type": "code",
   "execution_count": 218,
   "metadata": {},
   "outputs": [
    {
     "data": {
      "text/plain": [
       "<1x87 sparse matrix of type '<class 'numpy.int64'>'\n",
       "\twith 0 stored elements in Compressed Sparse Row format>"
      ]
     },
     "execution_count": 218,
     "metadata": {},
     "output_type": "execute_result"
    }
   ],
   "source": [
    "X_train_countvec[0]"
   ]
  },
  {
   "cell_type": "markdown",
   "metadata": {},
   "source": [
    "---- Discuss:\n",
    "With the en_core_web_md nlp model all the words will be non-zero, since each word is given a embedding score based on the large pre-training data this model has. X_train_countvec[0] is a sparse matrix with 0 stored elements in Compressed Sparse row format and so the first row has no non-zero elements."
   ]
  },
  {
   "cell_type": "markdown",
   "metadata": {},
   "source": [
    "## Using Pre-trained Embedding Model\n",
    "We used `CountVectorizer` to generate features, which were then fed into a model. We can do the same here with the features from the pre-trained embedding model. \n",
    "\n",
    "In this case, for computational reasons I will first get the embeddings for the entire train and test sets (note that this doesn't violate the Golden Rule because the transformation is independent for each example):"
   ]
  },
  {
   "cell_type": "code",
   "execution_count": 219,
   "metadata": {},
   "outputs": [],
   "source": [
    "X_train_embeddings = pd.DataFrame([sms.vector for sms in nlp.pipe(X_train)])\n",
    "X_test_embeddings  = pd.DataFrame([sms.vector for sms in nlp.pipe(X_test)])"
   ]
  },
  {
   "cell_type": "code",
   "execution_count": 220,
   "metadata": {},
   "outputs": [
    {
     "data": {
      "text/plain": [
       "(4179, 300)"
      ]
     },
     "execution_count": 220,
     "metadata": {},
     "output_type": "execute_result"
    }
   ],
   "source": [
    "X_train_embeddings.shape"
   ]
  },
  {
   "cell_type": "markdown",
   "metadata": {},
   "source": [
    "What sort of scores can you get with these features instead? "
   ]
  },
  {
   "cell_type": "code",
   "execution_count": 221,
   "metadata": {},
   "outputs": [
    {
     "data": {
      "text/plain": [
       "LogisticRegression()"
      ]
     },
     "execution_count": 221,
     "metadata": {},
     "output_type": "execute_result"
    }
   ],
   "source": [
    "r = LogisticRegression()\n",
    "r.fit(X_train_embeddings, y_train)"
   ]
  },
  {
   "cell_type": "code",
   "execution_count": 222,
   "metadata": {},
   "outputs": [
    {
     "data": {
      "text/plain": [
       "fit_time          0.328618\n",
       "score_time        0.004213\n",
       "test_score        0.964106\n",
       "std_test_score    0.002244\n",
       "dtype: float64"
      ]
     },
     "execution_count": 222,
     "metadata": {},
     "output_type": "execute_result"
    }
   ],
   "source": [
    "cross_validate_std(r, X_train_embeddings, y_train)"
   ]
  },
  {
   "cell_type": "code",
   "execution_count": 223,
   "metadata": {},
   "outputs": [
    {
     "data": {
      "text/plain": [
       "fit_time          0.306391\n",
       "score_time        0.006998\n",
       "test_score        0.900167\n",
       "std_test_score    0.022923\n",
       "dtype: float64"
      ]
     },
     "execution_count": 223,
     "metadata": {},
     "output_type": "execute_result"
    }
   ],
   "source": [
    "cross_validate_std(r, X_train_embeddings, y_train, scoring=make_scorer(precision_score, pos_label='spam'))"
   ]
  },
  {
   "cell_type": "code",
   "execution_count": 224,
   "metadata": {},
   "outputs": [
    {
     "data": {
      "text/plain": [
       "fit_time          0.295814\n",
       "score_time        0.007000\n",
       "test_score        0.833238\n",
       "std_test_score    0.040367\n",
       "dtype: float64"
      ]
     },
     "execution_count": 224,
     "metadata": {},
     "output_type": "execute_result"
    }
   ],
   "source": [
    "cross_validate_std(r, X_train_embeddings, y_train, scoring=make_scorer(recall_score, pos_label='spam'))"
   ]
  },
  {
   "cell_type": "code",
   "execution_count": 225,
   "metadata": {},
   "outputs": [
    {
     "data": {
      "text/plain": [
       "fit_time          0.299244\n",
       "score_time        0.007058\n",
       "test_score        0.864507\n",
       "std_test_score    0.012753\n",
       "dtype: float64"
      ]
     },
     "execution_count": 225,
     "metadata": {},
     "output_type": "execute_result"
    }
   ],
   "source": [
    "cross_validate_std(r, X_train_embeddings, y_train, scoring=make_scorer(f1_score, pos_label='spam'))"
   ]
  },
  {
   "cell_type": "code",
   "execution_count": 226,
   "metadata": {},
   "outputs": [
    {
     "data": {
      "text/plain": [
       "RandomForestClassifier()"
      ]
     },
     "execution_count": 226,
     "metadata": {},
     "output_type": "execute_result"
    }
   ],
   "source": [
    "rf = RandomForestClassifier()\n",
    "rf.fit(X_train_embeddings, y_train)"
   ]
  },
  {
   "cell_type": "code",
   "execution_count": 227,
   "metadata": {},
   "outputs": [
    {
     "data": {
      "text/plain": [
       "fit_time          1.936818\n",
       "score_time        0.017495\n",
       "test_score        0.971763\n",
       "std_test_score    0.005258\n",
       "dtype: float64"
      ]
     },
     "execution_count": 227,
     "metadata": {},
     "output_type": "execute_result"
    }
   ],
   "source": [
    "cross_validate_std(rf, X_train_embeddings, y_train)"
   ]
  },
  {
   "cell_type": "code",
   "execution_count": 228,
   "metadata": {},
   "outputs": [
    {
     "data": {
      "text/plain": [
       "fit_time          1.888121\n",
       "score_time        0.018830\n",
       "test_score        0.981063\n",
       "std_test_score    0.013918\n",
       "dtype: float64"
      ]
     },
     "execution_count": 228,
     "metadata": {},
     "output_type": "execute_result"
    }
   ],
   "source": [
    "cross_validate_std(rf, X_train_embeddings, y_train, scoring=make_scorer(precision_score, pos_label='spam'))"
   ]
  },
  {
   "cell_type": "code",
   "execution_count": 229,
   "metadata": {},
   "outputs": [
    {
     "data": {
      "text/plain": [
       "fit_time          1.927317\n",
       "score_time        0.017583\n",
       "test_score        0.805412\n",
       "std_test_score    0.049823\n",
       "dtype: float64"
      ]
     },
     "execution_count": 229,
     "metadata": {},
     "output_type": "execute_result"
    }
   ],
   "source": [
    "cross_validate_std(rf, X_train_embeddings, y_train, scoring=make_scorer(recall_score, pos_label='spam'))"
   ]
  },
  {
   "cell_type": "code",
   "execution_count": 230,
   "metadata": {},
   "outputs": [
    {
     "data": {
      "text/plain": [
       "fit_time          1.949642\n",
       "score_time        0.019971\n",
       "test_score        0.884793\n",
       "std_test_score    0.026779\n",
       "dtype: float64"
      ]
     },
     "execution_count": 230,
     "metadata": {},
     "output_type": "execute_result"
    }
   ],
   "source": [
    "cross_validate_std(rf, X_train_embeddings, y_train, scoring=make_scorer(f1_score, pos_label='spam'))"
   ]
  },
  {
   "cell_type": "markdown",
   "metadata": {},
   "source": [
    "---- Discuss: \n",
    "Using these features we are getting better cross-validation scores for both LogisticRegression and RandomForest, and \n",
    "much better precision, recall and f-1 score for RandomForest.\n",
    "\n",
    "The nlp model that extracted these features was pre-trained on a very large dataset and can identify similarity, meaning and relationship of the words in the example relative to other words based on the word embedding scores. This allowed this model to have a better scores across the board and also lower standard deviation.\n"
   ]
  },
  {
   "cell_type": "markdown",
   "metadata": {},
   "source": [
    "## Model scores on the test data:"
   ]
  },
  {
   "cell_type": "code",
   "execution_count": 231,
   "metadata": {},
   "outputs": [
    {
     "data": {
      "text/plain": [
       "0.9676956209619526"
      ]
     },
     "execution_count": 231,
     "metadata": {},
     "output_type": "execute_result"
    }
   ],
   "source": [
    "r.score(X_test_embeddings, y_test)"
   ]
  },
  {
   "cell_type": "code",
   "execution_count": 232,
   "metadata": {},
   "outputs": [
    {
     "data": {
      "text/plain": [
       "0.9755922469490309"
      ]
     },
     "execution_count": 232,
     "metadata": {},
     "output_type": "execute_result"
    }
   ],
   "source": [
    "rf.score(X_test_embeddings, y_test)"
   ]
  },
  {
   "cell_type": "markdown",
   "metadata": {},
   "source": [
    "--- Discuss:\n",
    "The test and train score are very close. This is expected as the training score was not entirely based on the training set, but rather the large pre-training dataset and the pre-trained word embedding the model has."
   ]
  },
  {
   "cell_type": "markdown",
   "metadata": {},
   "source": [
    "## Finding similar messages to a query message using nearest neighbours"
   ]
  },
  {
   "cell_type": "markdown",
   "metadata": {},
   "source": [
    "Using scikit-learn's `NearestNeighbours` on the word count features from `CountVectorizer`, searching the training data to find the 5 most similar messages to this made-up message:"
   ]
  },
  {
   "cell_type": "code",
   "execution_count": 233,
   "metadata": {},
   "outputs": [],
   "source": [
    "query_sms = \"Hey how about some CPSC 330 studying over Zoom or socially distanced at a park? This course is so much fun right?\""
   ]
  },
  {
   "cell_type": "markdown",
   "metadata": {},
   "source": [
    "Part a) Use Euclidean distance and the same `CountVectorizer` you used in Exercise 1.\n",
    "\n",
    "Note: The `kneighbors` function returns indices of the neighbours. To retrieve the corresponding messages, I recommend indexing using the `iloc` syntax.\n",
    "\n",
    "Note: We don't exactly have a notion of train and test anymore, because we're not doing supervised learning anymore. I just picked the training set for simplicity."
   ]
  },
  {
   "cell_type": "code",
   "execution_count": 234,
   "metadata": {},
   "outputs": [
    {
     "data": {
      "text/plain": [
       "<4179x87 sparse matrix of type '<class 'numpy.int64'>'\n",
       "\twith 8599 stored elements in Compressed Sparse Row format>"
      ]
     },
     "execution_count": 234,
     "metadata": {},
     "output_type": "execute_result"
    }
   ],
   "source": [
    "X_train_countvec"
   ]
  },
  {
   "cell_type": "code",
   "execution_count": 249,
   "metadata": {},
   "outputs": [
    {
     "data": {
      "text/plain": [
       "NearestNeighbors()"
      ]
     },
     "execution_count": 249,
     "metadata": {},
     "output_type": "execute_result"
    }
   ],
   "source": [
    "nn = NearestNeighbors(n_neighbors=5)\n",
    "nn.fit(X_train_countvec)"
   ]
  },
  {
   "cell_type": "code",
   "execution_count": 250,
   "metadata": {},
   "outputs": [],
   "source": [
    "similar_sms = nn.kneighbors(countvec.transform([query_sms]))"
   ]
  },
  {
   "cell_type": "code",
   "execution_count": 252,
   "metadata": {},
   "outputs": [
    {
     "name": "stdout",
     "output_type": "stream",
     "text": [
      "Hey... Very inconvenient for your sis a not huh?\n",
      "I meant middle left or right?\n",
      "Hey company elama po mudyadhu.\n",
      "Hey u still at the gym?\n",
      "Kate jackson rec center before 7ish, right?\n"
     ]
    }
   ],
   "source": [
    "for i in similar_sms[1][0]:\n",
    "    print(X_train.iloc[i])"
   ]
  },
  {
   "cell_type": "markdown",
   "metadata": {},
   "source": [
    "## Repeat part (a) but using cosine similarity instead of Euclidean distance to make part (b)"
   ]
  },
  {
   "cell_type": "code",
   "execution_count": 253,
   "metadata": {},
   "outputs": [
    {
     "data": {
      "text/plain": [
       "NearestNeighbors(metric='cosine')"
      ]
     },
     "execution_count": 253,
     "metadata": {},
     "output_type": "execute_result"
    }
   ],
   "source": [
    "nn_cosine = NearestNeighbors(n_neighbors=5, metric='cosine')\n",
    "nn_cosine.fit(X_test_countvec)"
   ]
  },
  {
   "cell_type": "code",
   "execution_count": 240,
   "metadata": {},
   "outputs": [],
   "source": [
    "similar_sms_cosine = nn_cosine.kneighbors(countvec.transform([query_sms]))"
   ]
  },
  {
   "cell_type": "code",
   "execution_count": 241,
   "metadata": {},
   "outputs": [
    {
     "name": "stdout",
     "output_type": "stream",
     "text": [
      "Ringtone Club: Get the UK singles chart on your mobile each week and choose any top quality ringtone! This message is free of charge.\n",
      "I cant wait to see you! How were the photos were useful? :)\n",
      "Fffff. Can you text kadeem or are you too far gone\n",
      "Anything lar...\n",
      "We have sent JD for Customer Service cum Accounts Executive to ur mail id, For details contact us\n"
     ]
    }
   ],
   "source": [
    "for i in similar_sms_cosine[1][0]:\n",
    "    print(X_train.iloc[i])"
   ]
  },
  {
   "cell_type": "markdown",
   "metadata": {},
   "source": [
    "## Repeat parts (a) and (b) but this time with the pre-trained embeddings."
   ]
  },
  {
   "cell_type": "code",
   "execution_count": 254,
   "metadata": {},
   "outputs": [
    {
     "name": "stdout",
     "output_type": "stream",
     "text": [
      "Have you heard about that job? I'm going to that wildlife talk again tonight if u want2come. Its that2worzels and a wizzle or whatever it is?! \n",
      "Not a lot has happened here. Feels very quiet. Beth is at her aunts and charlie is working lots. Just me and helen in at the mo. How have you been? \n",
      "Do whatever you want. You know what the rules are. We had a talk earlier this week about what had to start happening, you showing responsibility. Yet, every week it's can i bend the rule this way? What about that way? Do whatever. I'm tired of having thia same argument with you every week. And a  &lt;#&gt;  movie DOESNT inlude the previews. You're still getting in after 1.\n",
      "Exactly. Anyways how far. Is jide her to study or just visiting\n",
      "Oh ! A half hour is much longer in Syria than Canada, eh ? Wow you must get SO much more work done in a day than us with all that extra time ! *grins*\n"
     ]
    }
   ],
   "source": [
    "nn = NearestNeighbors(n_neighbors=5)\n",
    "nn.fit(X_train_embeddings)\n",
    "query = nlp(query_sms)\n",
    "similar_sms = nn.kneighbors([query.vector])[1]\n",
    "for i in similar_sms[0]:\n",
    "    print(X_train.iloc[i])"
   ]
  },
  {
   "cell_type": "code",
   "execution_count": 255,
   "metadata": {},
   "outputs": [
    {
     "name": "stdout",
     "output_type": "stream",
     "text": [
      "Have you heard about that job? I'm going to that wildlife talk again tonight if u want2come. Its that2worzels and a wizzle or whatever it is?! \n",
      "Not a lot has happened here. Feels very quiet. Beth is at her aunts and charlie is working lots. Just me and helen in at the mo. How have you been? \n",
      "Exactly. Anyways how far. Is jide her to study or just visiting\n",
      "Oh ! A half hour is much longer in Syria than Canada, eh ? Wow you must get SO much more work done in a day than us with all that extra time ! *grins*\n",
      "Do whatever you want. You know what the rules are. We had a talk earlier this week about what had to start happening, you showing responsibility. Yet, every week it's can i bend the rule this way? What about that way? Do whatever. I'm tired of having thia same argument with you every week. And a  &lt;#&gt;  movie DOESNT inlude the previews. You're still getting in after 1.\n"
     ]
    }
   ],
   "source": [
    "nn_cosine = NearestNeighbors(n_neighbors=5,metric='cosine')\n",
    "nn_cosine.fit(X_train_embeddings)\n",
    "query = nlp(query_sms)\n",
    "similar_sms_cosine = nn_cosine.kneighbors([query.vector])[1]\n",
    "for i in similar_sms_cosine[0]:\n",
    "    print(X_train.iloc[i])\n",
    "\n"
   ]
  }
 ],
 "metadata": {
  "anaconda-cloud": {},
  "kernelspec": {
   "display_name": "Python 3",
   "language": "python",
   "name": "python3"
  },
  "language_info": {
   "codemirror_mode": {
    "name": "ipython",
    "version": 3
   },
   "file_extension": ".py",
   "mimetype": "text/x-python",
   "name": "python",
   "nbconvert_exporter": "python",
   "pygments_lexer": "ipython3",
   "version": "3.8.3"
  },
  "name": "_merged",
  "toc": {
   "colors": {
    "hover_highlight": "#DAA520",
    "navigate_num": "#000000",
    "navigate_text": "#333333",
    "running_highlight": "#FF0000",
    "selected_highlight": "#FFD700",
    "sidebar_border": "#EEEEEE",
    "wrapper_background": "#FFFFFF"
   },
   "moveMenuLeft": true,
   "nav_menu": {
    "height": "438px",
    "width": "252px"
   },
   "navigate_menu": true,
   "number_sections": true,
   "sideBar": true,
   "threshold": 4,
   "toc_cell": false,
   "toc_section_display": "block",
   "toc_window_display": false,
   "widenNotebook": false
  }
 },
 "nbformat": 4,
 "nbformat_minor": 4
}
